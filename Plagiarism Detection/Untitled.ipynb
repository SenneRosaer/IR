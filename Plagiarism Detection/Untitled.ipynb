{
 "cells": [
  {
   "cell_type": "code",
   "execution_count": 247,
   "metadata": {},
   "outputs": [],
   "source": [
    "import pandas as pd\n",
    "import numpy as np\n",
    "import matplotlib.pyplot as plt\n",
    "\n",
    "from numba import njit, jit\n",
    "from itertools import permutations\n",
    "\n",
    "import random"
   ]
  },
  {
   "cell_type": "code",
   "execution_count": 170,
   "metadata": {},
   "outputs": [
    {
     "name": "stdout",
     "output_type": "stream",
     "text": [
      "0.5114698329575695\n",
      "10.0\n"
     ]
    }
   ],
   "source": [
    "B = 25\n",
    "SHINGLES = 2\n",
    "PERMUTATIONS = 250\n",
    "TRESHOLD = 0.7\n",
    "\n",
    "print(1 - np.power((1 - np.power(TRESHOLD, PERMUTATIONS / B)), B))\n",
    "print(PERMUTATIONS/B)"
   ]
  },
  {
   "cell_type": "code",
   "execution_count": 171,
   "metadata": {},
   "outputs": [
    {
     "name": "stdout",
     "output_type": "stream",
     "text": [
      "   News_ID                                            article\n",
      "0        0  The man ate a banana while the monkey looked hurt\n",
      "1        1  The man ate a banana while the monkey looked j...\n",
      "2        2  The man ate a coconut while the monkey looked ...\n",
      "3        3  The man ate a banana while the ape looked jealous\n",
      "4        4  The Philippine subsidiary of US telecommunicat...\n"
     ]
    }
   ],
   "source": [
    "df = pd.read_csv(\"news_articles_small_monkey.csv\")\n",
    "# df = pd.read_csv(\"news_articles_large.csv\")\n",
    "\n",
    "print(df.head())"
   ]
  },
  {
   "cell_type": "markdown",
   "metadata": {},
   "source": [
    "# Jaccard similarity"
   ]
  },
  {
   "cell_type": "code",
   "execution_count": 172,
   "metadata": {},
   "outputs": [],
   "source": [
    "shingles = SHINGLES\n",
    "shingles_dict = dict()"
   ]
  },
  {
   "cell_type": "code",
   "execution_count": 173,
   "metadata": {},
   "outputs": [
    {
     "name": "stdout",
     "output_type": "stream",
     "text": [
      "   News_ID                                            article  \\\n",
      "0        0  The man ate a banana while the monkey looked hurt   \n",
      "1        1  The man ate a banana while the monkey looked j...   \n",
      "2        2  The man ate a coconut while the monkey looked ...   \n",
      "3        3  The man ate a banana while the ape looked jealous   \n",
      "4        4  The Philippine subsidiary of US telecommunicat...   \n",
      "\n",
      "                                            shingles  \n",
      "0                        {0, 1, 2, 3, 4, 5, 6, 7, 8}  \n",
      "1                        {0, 1, 2, 3, 4, 5, 6, 7, 9}  \n",
      "2                      {0, 1, 2, 5, 6, 7, 9, 10, 11}  \n",
      "3                      {0, 1, 2, 3, 4, 5, 9, 12, 13}  \n",
      "4  {14, 15, 16, 17, 18, 19, 20, 21, 22, 23, 24, 2...  \n"
     ]
    }
   ],
   "source": [
    "def apply_shingles(input):\n",
    "    s = set()\n",
    "    l = input.split(' ')\n",
    "    for ind in range((len(l) - shingles + 1)):\n",
    "        word = ' '.join(l[ind:ind+shingles])\n",
    "        if word not in shingles_dict:\n",
    "            shingles_dict[word] = len(shingles_dict)\n",
    "        s.add(shingles_dict[word])\n",
    "    return s\n",
    "        \n",
    "df[\"shingles\"] = df[\"article\"].apply(apply_shingles)\n",
    "print(df.head())"
   ]
  },
  {
   "cell_type": "code",
   "execution_count": 174,
   "metadata": {},
   "outputs": [],
   "source": [
    "def similarity(a, b):\n",
    "    return (len(a & b) / len(a | b))"
   ]
  },
  {
   "cell_type": "code",
   "execution_count": 258,
   "metadata": {},
   "outputs": [
    {
     "name": "stdout",
     "output_type": "stream",
     "text": [
      "yeet\n",
      "CPU times: user 7.53 s, sys: 31.6 ms, total: 7.57 s\n",
      "Wall time: 7.56 s\n"
     ]
    }
   ],
   "source": [
    "%%time\n",
    "similarities = list()\n",
    "no_repeating = set()\n",
    "for ind_i, i in enumerate(df[\"shingles\"]):\n",
    "    for ind_j, j in enumerate(df[\"shingles\"]):\n",
    "        if (ind_j, ind_i) in no_repeating:\n",
    "            pass\n",
    "        else:\n",
    "            no_repeating.add((ind_i, ind_j))\n",
    "            if ind_i != ind_j:\n",
    "                similarities.append(similarity(i, j))\n",
    "\n",
    "hist = np.histogram(similarities, bins=10, range=(0, 1))"
   ]
  },
  {
   "cell_type": "code",
   "execution_count": 259,
   "metadata": {},
   "outputs": [
    {
     "data": {
      "image/png": "[encoded data removed]",
      "text/plain": [
       "<Figure size 432x288 with 1 Axes>"
      ]
     },
     "metadata": {
      "needs_background": "light"
     },
     "output_type": "display_data"
    }
   ],
   "source": [
    "fig, ax = plt.subplots()\n",
    "ax.bar(hist[1][:-1], hist[0], width=0.09)\n",
    "ax.set_yscale(\"log\")\n",
    "plt.show()"
   ]
  },
  {
   "cell_type": "code",
   "execution_count": 260,
   "metadata": {},
   "outputs": [
    {
     "name": "stdout",
     "output_type": "stream",
     "text": [
      "(array([499433,     51,      0,      1,      0,      2,      2,      0,\n",
      "            1,     10]), array([0. , 0.1, 0.2, 0.3, 0.4, 0.5, 0.6, 0.7, 0.8, 0.9, 1. ]))\n"
     ]
    }
   ],
   "source": [
    "print(hist)"
   ]
  },
  {
   "cell_type": "markdown",
   "metadata": {},
   "source": [
    "# Create minhash"
   ]
  },
  {
   "cell_type": "code",
   "execution_count": 177,
   "metadata": {},
   "outputs": [],
   "source": [
    "num_perm = PERMUTATIONS\n",
    "all_shingles = np.array(list(shingles_dict.values()))\n",
    "\n",
    "permutations = np.zeros(shape=(num_perm, len(all_shingles)), dtype=int)\n",
    "sign_matrix = np.zeros(shape=(num_perm, len(df.shingles)), dtype=int)"
   ]
  },
  {
   "cell_type": "code",
   "execution_count": 178,
   "metadata": {},
   "outputs": [
    {
     "name": "stdout",
     "output_type": "stream",
     "text": [
      "CPU times: user 4.05 s, sys: 88.1 ms, total: 4.14 s\n",
      "Wall time: 4.14 s\n"
     ]
    }
   ],
   "source": [
    "%%time\n",
    "for i in range(num_perm):\n",
    "    cont = True\n",
    "    while cont:\n",
    "        cont = False\n",
    "        perm = np.random.permutation(all_shingles)\n",
    "        for j in range(i):\n",
    "            if (permutations[j] == perm).all():\n",
    "                cont = True\n",
    "    permutations[i] = perm"
   ]
  },
  {
   "cell_type": "code",
   "execution_count": 179,
   "metadata": {},
   "outputs": [
    {
     "name": "stdout",
     "output_type": "stream",
     "text": [
      "CPU times: user 33.5 s, sys: 0 ns, total: 33.5 s\n",
      "Wall time: 33.6 s\n"
     ]
    }
   ],
   "source": [
    "%%time\n",
    "for doc_index, document in enumerate(df.shingles):\n",
    "    for perm_index, perm in enumerate(permutations):\n",
    "        for shingle_index, shingle in enumerate(perm):\n",
    "            if shingle in document:\n",
    "                sign_matrix[perm_index, doc_index] = shingle_index\n",
    "                break"
   ]
  },
  {
   "cell_type": "code",
   "execution_count": 180,
   "metadata": {},
   "outputs": [
    {
     "name": "stdout",
     "output_type": "stream",
     "text": [
      "[[18246  4859  4859 ...   691   413  1790]\n",
      " [18682 18682 19965 ...   820    26   295]\n",
      " [15407 15407 15407 ...  1406   849    47]\n",
      " ...\n",
      " [ 7953  7953  7953 ...  2062   205   383]\n",
      " [19043  1940  1940 ...   535   176   569]\n",
      " [11092 11092 11092 ...  1709   229    15]]\n"
     ]
    }
   ],
   "source": [
    "print(sign_matrix)"
   ]
  },
  {
   "cell_type": "markdown",
   "metadata": {},
   "source": [
    "# Locality-Sensitive Hashing"
   ]
  },
  {
   "cell_type": "code",
   "execution_count": 181,
   "metadata": {},
   "outputs": [],
   "source": [
    "bands = B"
   ]
  },
  {
   "cell_type": "code",
   "execution_count": 182,
   "metadata": {},
   "outputs": [],
   "source": [
    "table = np.split(sign_matrix, bands)\n",
    "htable = [dict()] * bands\n",
    "\n",
    "candidate_pairs = set()"
   ]
  },
  {
   "cell_type": "code",
   "execution_count": 183,
   "metadata": {},
   "outputs": [
    {
     "name": "stdout",
     "output_type": "stream",
     "text": [
      "[18246  4859  4859  4859  1444    40   419  1266   592   477]\n",
      "[18682 18682 19965 18682    61   485   312   822   399   123]\n"
     ]
    }
   ],
   "source": [
    "print(table[0][0][0:10])\n",
    "print(table[0][1][0:10])"
   ]
  },
  {
   "cell_type": "code",
   "execution_count": 184,
   "metadata": {},
   "outputs": [
    {
     "name": "stdout",
     "output_type": "stream",
     "text": [
      "CPU times: user 33.7 ms, sys: 0 ns, total: 33.7 ms\n",
      "Wall time: 33.6 ms\n"
     ]
    }
   ],
   "source": [
    "%%time\n",
    "for band_index, band in enumerate(table):\n",
    "    for row_index, row in enumerate(band.T):\n",
    "        if row.tostring() in htable[band_index]:\n",
    "            for candidate in htable[band_index][row.tostring()]:\n",
    "                candidate_pairs.add((row_index, candidate))\n",
    "            htable[band_index][row.tostring()].add(row_index)\n",
    "        else:\n",
    "            htable[band_index][row.tostring()] = {row_index}"
   ]
  },
  {
   "cell_type": "code",
   "execution_count": 211,
   "metadata": {},
   "outputs": [
    {
     "name": "stdout",
     "output_type": "stream",
     "text": [
      "11\n"
     ]
    }
   ],
   "source": [
    "print(len(candidate_pairs))"
   ]
  },
  {
   "cell_type": "code",
   "execution_count": 263,
   "metadata": {},
   "outputs": [
    {
     "name": "stdout",
     "output_type": "stream",
     "text": [
      "0.9883268482490273\n",
      "{ Saudi Arabia has lifted a ban on Jordanian and Pal }; { Saudi Arabia has lifted a ban on Jordanian and Pal }\n",
      "\n",
      "0.9892086330935251\n",
      "{ Syrian President Hafez al-Assad held talks here Sa }; { Syrian President Hafez al-Assad held talks here Sa }\n",
      "\n",
      "0.9885057471264368\n",
      "{ Burundi's government on Monday declared a period o }; { Burundi's government on Monday declared a period o }\n",
      "\n",
      "0.98828125\n",
      "{ Russian Prime Minister Viktor Chernomyrdin on Thur }; { Russian Prime Minister Viktor Chernomyrdin on Thur }\n",
      "\n",
      "0.9873417721518988\n",
      "{ A man was shot dead and fifteen others injured whe }; { A man was shot dead and fifteen others injured whe }\n",
      "\n",
      "0.9878048780487805\n",
      "{ The peseta nosedived to a new all-time low early F }; { The peseta nosedived to a new all-time low early F }\n",
      "\n",
      "0.9862385321100917\n",
      "{ The Pakistani government Saturday sacked four top  }; { The Pakistani government Saturday sacked four top  }\n",
      "\n",
      "0.9887218045112782\n",
      "{ McDonald's hamburger chain must pay 375,000 dollar }; { McDonald's hamburger chain must pay 375,000 dollar }\n",
      "\n",
      "0.9868421052631579\n",
      "{ Nippon Challenge came from behind at the last mark }; { Nippon Challenge came from behind at the last mark }\n",
      "\n",
      "0.8\n",
      "{ The man ate a banana while the monkey looked jealo }; { The man ate a banana while the monkey looked hurt }\n",
      "\n",
      "0.9883268482490273\n",
      "{ Unexpectedly high producer price and industrial ou }; { Unexpectedly high producer price and industrial ou }\n",
      "\n"
     ]
    }
   ],
   "source": [
    "for pair in candidate_pairs:\n",
    "    print(similarity(df.shingles[pair[0]], df.shingles[pair[1]]))\n",
    "    print(\"{\", df[\"article\"][pair[0]][:50], \"}; {\" , df[\"article\"][pair[1]][:50], \"}\")\n",
    "    print()"
   ]
  },
  {
   "cell_type": "code",
   "execution_count": null,
   "metadata": {},
   "outputs": [],
   "source": []
  }
 ],
 "metadata": {
  "kernelspec": {
   "display_name": "Python 3",
   "language": "python",
   "name": "python3"
  },
  "language_info": {
   "codemirror_mode": {
    "name": "ipython",
    "version": 3
   },
   "file_extension": ".py",
   "mimetype": "text/x-python",
   "name": "python",
   "nbconvert_exporter": "python",
   "pygments_lexer": "ipython3",
   "version": "3.7.5"
  }
 },
 "nbformat": 4,
 "nbformat_minor": 2
}
