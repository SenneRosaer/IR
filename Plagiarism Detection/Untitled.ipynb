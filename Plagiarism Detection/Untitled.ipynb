{
 "cells": [
  {
   "cell_type": "code",
   "execution_count": 1,
   "metadata": {},
   "outputs": [],
   "source": [
    "import pandas as pd\n",
    "import numpy as np\n",
    "import matplotlib.pyplot as plt\n",
    "\n",
    "from numba import njit, jit"
   ]
  },
  {
   "cell_type": "code",
   "execution_count": 2,
   "metadata": {},
   "outputs": [
    {
     "name": "stdout",
     "output_type": "stream",
     "text": [
      "   News_ID                                            article\n",
      "0        0  The Supreme Court in Johnnesberg on Friday pos...\n",
      "1        1  The IG Metall union has decided not to spread ...\n",
      "2        2  Malaysia said Friday it had no plans to overre...\n",
      "3        3  South Korea is redoubling its efforts behind K...\n",
      "4        4  The Philippine subsidiary of US telecommunicat...\n"
     ]
    }
   ],
   "source": [
    "df = pd.read_csv(\"news_articles_small.csv\")\n",
    "# df = pd.read_csv(\"news_articles_large.csv\")\n",
    "\n",
    "print(df.head())"
   ]
  },
  {
   "cell_type": "markdown",
   "metadata": {},
   "source": [
    "# Jaccard similarity"
   ]
  },
  {
   "cell_type": "code",
   "execution_count": 3,
   "metadata": {},
   "outputs": [],
   "source": [
    "shingles = 1\n",
    "shingles_dict = dict()"
   ]
  },
  {
   "cell_type": "code",
   "execution_count": 4,
   "metadata": {},
   "outputs": [
    {
     "name": "stdout",
     "output_type": "stream",
     "text": [
      "   News_ID                                            article  \\\n",
      "0        0  The Supreme Court in Johnnesberg on Friday pos...   \n",
      "1        1  The IG Metall union has decided not to spread ...   \n",
      "2        2  Malaysia said Friday it had no plans to overre...   \n",
      "3        3  South Korea is redoubling its efforts behind K...   \n",
      "4        4  The Philippine subsidiary of US telecommunicat...   \n",
      "\n",
      "                                            shingles  \n",
      "0  {0, 1, 2, 3, 4, 5, 6, 7, 8, 9, 10, 11, 12, 13,...  \n",
      "1  {0, 3, 5, 11, 14, 15, 19, 21, 25, 28, 35, 42, ...  \n",
      "2  {0, 512, 513, 3, 514, 5, 6, 515, 516, 517, 11,...  \n",
      "3  {1, 2, 3, 5, 518, 519, 520, 521, 522, 523, 524...  \n",
      "4  {0, 3, 5, 6, 11, 14, 528, 19, 26, 28, 35, 42, ...  \n"
     ]
    }
   ],
   "source": [
    "def apply_shingles(input):\n",
    "    s = set()\n",
    "    l = input.split(' ')\n",
    "    for ind in range((len(l) - shingles + 1)):\n",
    "        word = ' '.join(l[ind:ind+shingles])\n",
    "        if word not in shingles_dict:\n",
    "            shingles_dict[word] = len(shingles_dict)\n",
    "        s.add(shingles_dict[word])\n",
    "    return s\n",
    "        \n",
    "df[\"shingles\"] = df[\"article\"].apply(apply_shingles)\n",
    "print(df.head())"
   ]
  },
  {
   "cell_type": "code",
   "execution_count": 5,
   "metadata": {},
   "outputs": [],
   "source": [
    "def similarity(a, b):\n",
    "    return (len(a & b) / len(a | b))"
   ]
  },
  {
   "cell_type": "code",
   "execution_count": 6,
   "metadata": {},
   "outputs": [],
   "source": [
    "similarities = list()\n",
    "for ind_i, i in enumerate(df[\"shingles\"]):\n",
    "    for ind_j, j in enumerate(df[\"shingles\"]):\n",
    "        if ind_i != ind_j:\n",
    "            similarities.append(similarity(i, j))\n",
    "\n",
    "hist = np.histogram(similarities, bins=10, range=(0, 1))"
   ]
  },
  {
   "cell_type": "code",
   "execution_count": 38,
   "metadata": {},
   "outputs": [
    {
     "data": {
      "image/png": "[encoded data removed]",
      "text/plain": [
       "<Figure size 432x288 with 1 Axes>"
      ]
     },
     "metadata": {
      "needs_background": "light"
     },
     "output_type": "display_data"
    }
   ],
   "source": [
    "fig, ax = plt.subplots()\n",
    "ax.bar(hist[1][:-1], hist[0], width=0.09)\n",
    "ax.set_yscale(\"log\")\n",
    "plt.show()"
   ]
  }
 ],
 "metadata": {
  "kernelspec": {
   "display_name": "Python 3",
   "language": "python",
   "name": "python3"
  },
  "language_info": {
   "codemirror_mode": {
    "name": "ipython",
    "version": 3
   },
   "file_extension": ".py",
   "mimetype": "text/x-python",
   "name": "python",
   "nbconvert_exporter": "python",
   "pygments_lexer": "ipython3",
   "version": "3.7.5"
  }
 },
 "nbformat": 4,
 "nbformat_minor": 2
}
