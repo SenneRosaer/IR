{
 "cells": [
  {
   "cell_type": "code",
   "execution_count": 19,
   "metadata": {},
   "outputs": [],
   "source": [
    "import pandas as pd\n",
    "import numpy as np\n",
    "import matplotlib.pyplot as plt\n",
    "from primesieve import *\n",
    "\n",
    "from numba import njit, jit\n",
    "from itertools import permutations\n",
    "\n",
    "import random"
   ]
  },
  {
   "cell_type": "code",
   "execution_count": 20,
   "metadata": {},
   "outputs": [
    {
     "name": "stdout",
     "output_type": "stream",
     "text": [
      "0.9989554935822509\n",
      "4.0\n"
     ]
    }
   ],
   "source": [
    "B = 25\n",
    "SHINGLES = 2\n",
    "PERMUTATIONS = 100 # how many permutations / hashes you want\n",
    "TRESHOLD = 0.7\n",
    "\n",
    "print(1 - np.power((1 - np.power(TRESHOLD, PERMUTATIONS / B)), B))\n",
    "print(PERMUTATIONS/B)"
   ]
  },
  {
   "cell_type": "code",
   "execution_count": 21,
   "metadata": {},
   "outputs": [
    {
     "name": "stdout",
     "output_type": "stream",
     "text": [
      "   News_ID                                            article\n",
      "0        0  The Supreme Court in Johnnesberg on Friday pos...\n",
      "1        1  The IG Metall union has decided not to spread ...\n",
      "2        2  Malaysia said Friday it had no plans to overre...\n",
      "3        3  South Korea is redoubling its efforts behind K...\n",
      "4        4  The Philippine subsidiary of US telecommunicat...\n"
     ]
    }
   ],
   "source": [
    "df = pd.read_csv(\"news_articles_small.csv\")\n",
    "# df = pd.read_csv(\"news_articles_large.csv\")\n",
    "\n",
    "print(df.head())"
   ]
  },
  {
   "cell_type": "markdown",
   "metadata": {},
   "source": [
    "# Jaccard similarity"
   ]
  },
  {
   "cell_type": "code",
   "execution_count": 22,
   "metadata": {},
   "outputs": [],
   "source": [
    "shingles = SHINGLES\n",
    "shingles_dict = dict()"
   ]
  },
  {
   "cell_type": "code",
   "execution_count": 23,
   "metadata": {},
   "outputs": [
    {
     "name": "stdout",
     "output_type": "stream",
     "text": [
      "   News_ID                                            article  \\\n",
      "0        0  The Supreme Court in Johnnesberg on Friday pos...   \n",
      "1        1  The IG Metall union has decided not to spread ...   \n",
      "2        2  Malaysia said Friday it had no plans to overre...   \n",
      "3        3  South Korea is redoubling its efforts behind K...   \n",
      "4        4  The Philippine subsidiary of US telecommunicat...   \n",
      "\n",
      "                                            shingles  \n",
      "0  {0, 1, 2, 3, 4, 5, 6, 7, 8, 9, 10, 11, 12, 13,...  \n",
      "1  {512, 513, 514, 515, 516, 517, 518, 519, 520, ...  \n",
      "2  {526, 527, 528, 529, 530, 531, 532, 533, 534, ...  \n",
      "3  {1, 5, 554, 555, 556, 557, 558, 45, 560, 561, ...  \n",
      "4  {1024, 1025, 1026, 1027, 1028, 1029, 1030, 103...  \n"
     ]
    }
   ],
   "source": [
    "# convert articles into sets of shingles.\n",
    "def apply_shingles(input):\n",
    "    s = set()\n",
    "    l = input.split(' ')\n",
    "    for ind in range((len(l) - shingles + 1)):\n",
    "        word = ' '.join(l[ind:ind+shingles])\n",
    "        if word not in shingles_dict:\n",
    "            shingles_dict[word] = len(shingles_dict)\n",
    "        s.add(shingles_dict[word])\n",
    "    return s\n",
    "        \n",
    "df[\"shingles\"] = df[\"article\"].apply(apply_shingles)\n",
    "print(df.head())"
   ]
  },
  {
   "cell_type": "code",
   "execution_count": 24,
   "metadata": {},
   "outputs": [],
   "source": [
    "# function to calculate jaccard similarity\n",
    "def similarity(a, b):\n",
    "    return (len(a & b) / len(a | b))"
   ]
  },
  {
   "cell_type": "code",
   "execution_count": 25,
   "metadata": {},
   "outputs": [
    {
     "name": "stdout",
     "output_type": "stream",
     "text": [
      "CPU times: user 7.72 s, sys: 0 ns, total: 7.72 s\n",
      "Wall time: 7.72 s\n"
     ]
    }
   ],
   "source": [
    "%%time\n",
    "# calculate similarity between all documents, plot in histogram\n",
    "similarities = list()\n",
    "no_repeating = set()\n",
    "for ind_i, i in enumerate(df[\"shingles\"]):\n",
    "    for ind_j, j in enumerate(df[\"shingles\"]):\n",
    "        if (ind_j, ind_i) in no_repeating:\n",
    "            pass\n",
    "        else:\n",
    "            no_repeating.add((ind_i, ind_j))\n",
    "            if ind_i != ind_j:\n",
    "                similarities.append(similarity(i, j))\n",
    "\n",
    "hist = np.histogram(similarities, bins=10, range=(0, 1))"
   ]
  },
  {
   "cell_type": "code",
   "execution_count": 70,
   "metadata": {},
   "outputs": [
    {
     "data": {
      "image/png": "[encoded data removed]",
      "text/plain": [
       "<Figure size 432x288 with 1 Axes>"
      ]
     },
     "metadata": {
      "needs_background": "light"
     },
     "output_type": "display_data"
    },
    {
     "name": "stdout",
     "output_type": "stream",
     "text": [
      "CPU times: user 327 ms, sys: 4.05 ms, total: 331 ms\n",
      "Wall time: 327 ms\n"
     ]
    }
   ],
   "source": [
    "%%time\n",
    "# draw histogram\n",
    "fig, ax = plt.subplots()\n",
    "ax.bar(hist[1][:-1], hist[0], width=0.09)\n",
    "ax.set_yscale(\"log\")\n",
    "x = [i/100 for i in range(0, 100)]\n",
    "ax.plot(x, np.power(10, (1 - np.power((1 - np.power(x, PERMUTATIONS / B)), B)) * np.log10(hist[0][0])), \"r\")\n",
    "plt.ylim(bottom=1)\n",
    "plt.show()"
   ]
  },
  {
   "cell_type": "code",
   "execution_count": 27,
   "metadata": {
    "pycharm": {
     "name": "#%%\n"
    }
   },
   "outputs": [
    {
     "name": "stdout",
     "output_type": "stream",
     "text": [
      "(array([499439,     51,      0,      0,      0,      0,      0,      0,\n",
      "            0,     10]), array([0. , 0.1, 0.2, 0.3, 0.4, 0.5, 0.6, 0.7, 0.8, 0.9, 1. ]))\n"
     ]
    }
   ],
   "source": [
    "# print histogram distribution to see actual values\n",
    "print(hist)"
   ]
  },
  {
   "cell_type": "markdown",
   "metadata": {
    "pycharm": {
     "name": "#%% md\n"
    }
   },
   "source": [
    "# Create minhash"
   ]
  },
  {
   "cell_type": "code",
   "execution_count": 28,
   "metadata": {},
   "outputs": [],
   "source": [
    "# set up parameters\n",
    "num_perm = PERMUTATIONS\n",
    "all_shingles = np.array(list(shingles_dict.values()))"
   ]
  },
  {
   "cell_type": "code",
   "execution_count": 73,
   "metadata": {},
   "outputs": [
    {
     "name": "stdout",
     "output_type": "stream",
     "text": [
      "CPU times: user 13 µs, sys: 0 ns, total: 13 µs\n",
      "Wall time: 22.4 µs\n"
     ]
    }
   ],
   "source": [
    "%%time\n",
    "def make_permutations():\n",
    "    permutations = np.zeros(shape=(num_perm, len(all_shingles)), dtype=int)\n",
    "    for i in range(num_perm):\n",
    "        cont = True\n",
    "        while cont:\n",
    "            cont = False\n",
    "            perm = np.random.permutation(all_shingles)\n",
    "            for j in range(i):\n",
    "                if (permutations[j] == perm).all():\n",
    "                    cont = True\n",
    "        permutations[i] = perm\n",
    "    return permutations"
   ]
  },
  {
   "cell_type": "code",
   "execution_count": 74,
   "metadata": {
    "pycharm": {
     "name": "#%%\n"
    }
   },
   "outputs": [
    {
     "name": "stdout",
     "output_type": "stream",
     "text": [
      "CPU times: user 823 ms, sys: 20 ms, total: 843 ms\n",
      "Wall time: 841 ms\n"
     ]
    }
   ],
   "source": [
    "%%time\n",
    "def make_sign_matrix_permu(permutations=make_permutations()):\n",
    "    sign_matrix = np.zeros(shape=(num_perm, len(df.shingles)), dtype=int)\n",
    "    for doc_index, document in enumerate(df.shingles):\n",
    "        for perm_index, perm in enumerate(permutations):\n",
    "            for shingle_index, shingle in enumerate(perm):\n",
    "                if shingle in document:\n",
    "                    sign_matrix[perm_index, doc_index] = shingle_index\n",
    "                    break\n",
    "    return sign_matrix"
   ]
  },
  {
   "cell_type": "code",
   "execution_count": 75,
   "metadata": {
    "pycharm": {
     "name": "#%%\n"
    }
   },
   "outputs": [
    {
     "name": "stdout",
     "output_type": "stream",
     "text": [
      "CPU times: user 51 µs, sys: 1 µs, total: 52 µs\n",
      "Wall time: 59.8 µs\n"
     ]
    }
   ],
   "source": [
    "%%time\n",
    "class Hash:\n",
    "    def __init__(self, a, b, p, len_shingles):\n",
    "        self.a = a\n",
    "        self.b = b\n",
    "        self.p = p\n",
    "        self.len_shingles = len_shingles\n",
    "\n",
    "    def __call__(self, *args, **kwargs):\n",
    "        return ((self.a * args[0] + self.b) % self.p) % self.len_shingles\n",
    "\n",
    "def make_hashes():\n",
    "    p = n_primes(1,len(all_shingles))[0]\n",
    "    hashes = []\n",
    "    len_shingles = len(all_shingles)\n",
    "    for i in range(num_perm):\n",
    "        a = np.random.randint(1, p-1)\n",
    "        b = np.random.randint(0, p-1)\n",
    "\n",
    "        hashes.append(Hash(a,b,p,len_shingles))\n",
    "    return hashes"
   ]
  },
  {
   "cell_type": "code",
   "execution_count": 77,
   "metadata": {
    "pycharm": {
     "name": "#%%\n"
    }
   },
   "outputs": [
    {
     "name": "stdout",
     "output_type": "stream",
     "text": [
      "CPU times: user 930 µs, sys: 0 ns, total: 930 µs\n",
      "Wall time: 936 µs\n"
     ]
    }
   ],
   "source": [
    "%%time\n",
    "def make_sign_matrix_hash(hashes=make_hashes()):\n",
    "    sign_matrix = np.zeros(shape=(num_perm, len(df.shingles)), dtype=int)\n",
    "    for doc_index, document in enumerate(df.shingles):\n",
    "        for hash_index, hash in enumerate(hashes):\n",
    "            min = float('inf')\n",
    "            for shingle in document:\n",
    "                tmp = hash(shingle)\n",
    "\n",
    "                if tmp < min:\n",
    "                    min = tmp\n",
    "            sign_matrix[hash_index, doc_index] = min\n",
    "    return sign_matrix"
   ]
  },
  {
   "cell_type": "code",
   "execution_count": 33,
   "metadata": {},
   "outputs": [
    {
     "name": "stdout",
     "output_type": "stream",
     "text": [
      "[[ 720  389 1013 ... 2233  158   30]\n",
      " [ 705  267 1530 ...  192  557  943]\n",
      " [ 353  132  306 ...  434   70  908]\n",
      " ...\n",
      " [1060   33 1078 ...  402 2614  506]\n",
      " [ 321  480  541 ...  273 1132  226]\n",
      " [ 216   68   46 ...  350   78  173]]\n"
     ]
    }
   ],
   "source": [
    "print(sign_matrix)"
   ]
  },
  {
   "cell_type": "markdown",
   "metadata": {
    "pycharm": {
     "name": "#%% md\n"
    }
   },
   "source": [
    "# Locality-Sensitive Hashing"
   ]
  },
  {
   "cell_type": "code",
   "execution_count": 34,
   "metadata": {},
   "outputs": [],
   "source": [
    "bands = B"
   ]
  },
  {
   "cell_type": "code",
   "execution_count": 35,
   "metadata": {},
   "outputs": [],
   "source": [
    "table = np.split(tmp_sign_matrix, bands)\n",
    "htable = [dict()] * bands\n",
    "\n",
    "candidate_pairs = set()"
   ]
  },
  {
   "cell_type": "code",
   "execution_count": 36,
   "metadata": {},
   "outputs": [
    {
     "name": "stdout",
     "output_type": "stream",
     "text": [
      "[384  49 156 598 263 705 370  35 477 142]\n",
      "[244 174 139 104  69   5 833 798 763 693]\n"
     ]
    }
   ],
   "source": [
    "print(table[0][0][0:10])\n",
    "print(table[0][1][0:10])"
   ]
  },
  {
   "cell_type": "code",
   "execution_count": 37,
   "metadata": {},
   "outputs": [
    {
     "name": "stdout",
     "output_type": "stream",
     "text": [
      "CPU times: user 23.7 ms, sys: 8 ms, total: 31.7 ms\n",
      "Wall time: 31.2 ms\n"
     ]
    }
   ],
   "source": [
    "%%time\n",
    "for band_index, band in enumerate(table):\n",
    "    for row_index, row in enumerate(band.T):\n",
    "        if row.tostring() in htable[band_index]:\n",
    "            for candidate in htable[band_index][row.tostring()]:\n",
    "                candidate_pairs.add((row_index, candidate))\n",
    "            htable[band_index][row.tostring()].add(row_index)\n",
    "        else:\n",
    "            htable[band_index][row.tostring()] = {row_index}"
   ]
  },
  {
   "cell_type": "code",
   "execution_count": 38,
   "metadata": {},
   "outputs": [
    {
     "name": "stdout",
     "output_type": "stream",
     "text": [
      "11\n"
     ]
    }
   ],
   "source": [
    "print(len(candidate_pairs))"
   ]
  },
  {
   "cell_type": "code",
   "execution_count": 39,
   "metadata": {},
   "outputs": [
    {
     "name": "stdout",
     "output_type": "stream",
     "text": [
      "0.15164835164835164\n",
      "{ An Israeli gunboat on Tuesday opened fire at two f }; { The Israeli army is prepared to withdraw in stages }\n",
      "\n",
      "0.9883268482490273\n",
      "{ Saudi Arabia has lifted a ban on Jordanian and Pal }; { Saudi Arabia has lifted a ban on Jordanian and Pal }\n",
      "\n",
      "0.9892086330935251\n",
      "{ Syrian President Hafez al-Assad held talks here Sa }; { Syrian President Hafez al-Assad held talks here Sa }\n",
      "\n",
      "0.9885057471264368\n",
      "{ Burundi's government on Monday declared a period o }; { Burundi's government on Monday declared a period o }\n",
      "\n",
      "0.98828125\n",
      "{ Russian Prime Minister Viktor Chernomyrdin on Thur }; { Russian Prime Minister Viktor Chernomyrdin on Thur }\n",
      "\n",
      "0.9873417721518988\n",
      "{ A man was shot dead and fifteen others injured whe }; { A man was shot dead and fifteen others injured whe }\n",
      "\n",
      "0.9878048780487805\n",
      "{ The peseta nosedived to a new all-time low early F }; { The peseta nosedived to a new all-time low early F }\n",
      "\n",
      "0.9862385321100917\n",
      "{ The Pakistani government Saturday sacked four top  }; { The Pakistani government Saturday sacked four top  }\n",
      "\n",
      "0.9887218045112782\n",
      "{ McDonald's hamburger chain must pay 375,000 dollar }; { McDonald's hamburger chain must pay 375,000 dollar }\n",
      "\n",
      "0.9868421052631579\n",
      "{ Nippon Challenge came from behind at the last mark }; { Nippon Challenge came from behind at the last mark }\n",
      "\n",
      "0.9883268482490273\n",
      "{ Unexpectedly high producer price and industrial ou }; { Unexpectedly high producer price and industrial ou }\n",
      "\n"
     ]
    }
   ],
   "source": [
    "for pair in candidate_pairs:\n",
    "    print(similarity(df.shingles[pair[0]], df.shingles[pair[1]]))\n",
    "    print(\"{\", df[\"article\"][pair[0]][:50], \"}; {\" , df[\"article\"][pair[1]][:50], \"}\")\n",
    "    print()"
   ]
  },
  {
   "cell_type": "code",
   "execution_count": null,
   "metadata": {},
   "outputs": [],
   "source": []
  },
  {
   "cell_type": "code",
   "execution_count": null,
   "metadata": {},
   "outputs": [],
   "source": []
  },
  {
   "cell_type": "code",
   "execution_count": null,
   "metadata": {},
   "outputs": [],
   "source": []
  },
  {
   "cell_type": "code",
   "execution_count": null,
   "metadata": {},
   "outputs": [],
   "source": []
  }
 ],
 "metadata": {
  "kernelspec": {
   "display_name": "Python 3",
   "language": "python",
   "name": "python3"
  },
  "language_info": {
   "codemirror_mode": {
    "name": "ipython",
    "version": 3
   },
   "file_extension": ".py",
   "mimetype": "text/x-python",
   "name": "python",
   "nbconvert_exporter": "python",
   "pygments_lexer": "ipython3",
   "version": "3.7.5"
  }
 },
 "nbformat": 4,
 "nbformat_minor": 2
}
