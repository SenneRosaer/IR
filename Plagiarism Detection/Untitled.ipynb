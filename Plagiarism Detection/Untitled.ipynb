{
 "cells": [
  {
   "cell_type": "code",
   "execution_count": 306,
   "metadata": {},
   "outputs": [],
   "source": [
    "import pandas as pd\n",
    "import numpy as np\n",
    "import matplotlib.pyplot as plt\n",
    "\n",
    "from numba import njit, jit\n",
    "from itertools import permutations\n",
    "\n",
    "import random"
   ]
  },
  {
   "cell_type": "code",
   "execution_count": 307,
   "metadata": {},
   "outputs": [
    {
     "name": "stdout",
     "output_type": "stream",
     "text": [
      "0.9999883333978635\n",
      "10.0\n"
     ]
    }
   ],
   "source": [
    "B = 100\n",
    "SHINGLES = 2\n",
    "PERMUTATIONS = 1000\n",
    "TRESHOLD = 0.8\n",
    "\n",
    "print(1 - np.power((1 - np.power(TRESHOLD, PERMUTATIONS / B)), B))\n",
    "print(PERMUTATIONS/B)"
   ]
  },
  {
   "cell_type": "code",
   "execution_count": 308,
   "metadata": {},
   "outputs": [
    {
     "name": "stdout",
     "output_type": "stream",
     "text": [
      "   News_ID                                            article\n",
      "0        0  The man ate a banana while the monkey looked hurt\n",
      "1        1  The man ate a banana while the monkey looked j...\n",
      "2        2  The man ate a coconut while the monkey looked ...\n",
      "3        3  The man ate a banana while the ape looked jealous\n",
      "4        4  The Philippine subsidiary of US telecommunicat...\n"
     ]
    }
   ],
   "source": [
    "df = pd.read_csv(\"news_articles_small_monkey.csv\")\n",
    "# df = pd.read_csv(\"news_articles_large.csv\")\n",
    "\n",
    "print(df.head())"
   ]
  },
  {
   "cell_type": "markdown",
   "metadata": {},
   "source": [
    "# Jaccard similarity"
   ]
  },
  {
   "cell_type": "code",
   "execution_count": 309,
   "metadata": {},
   "outputs": [],
   "source": [
    "shingles = SHINGLES\n",
    "shingles_dict = dict()"
   ]
  },
  {
   "cell_type": "code",
   "execution_count": 310,
   "metadata": {},
   "outputs": [
    {
     "name": "stdout",
     "output_type": "stream",
     "text": [
      "   News_ID                                            article  \\\n",
      "0        0  The man ate a banana while the monkey looked hurt   \n",
      "1        1  The man ate a banana while the monkey looked j...   \n",
      "2        2  The man ate a coconut while the monkey looked ...   \n",
      "3        3  The man ate a banana while the ape looked jealous   \n",
      "4        4  The Philippine subsidiary of US telecommunicat...   \n",
      "\n",
      "                                            shingles  \n",
      "0                        {0, 1, 2, 3, 4, 5, 6, 7, 8}  \n",
      "1                        {0, 1, 2, 3, 4, 5, 6, 7, 9}  \n",
      "2                      {0, 1, 2, 5, 6, 7, 9, 10, 11}  \n",
      "3                      {0, 1, 2, 3, 4, 5, 9, 12, 13}  \n",
      "4  {14, 15, 16, 17, 18, 19, 20, 21, 22, 23, 24, 2...  \n"
     ]
    }
   ],
   "source": [
    "def apply_shingles(input):\n",
    "    s = set()\n",
    "    l = input.split(' ')\n",
    "    for ind in range((len(l) - shingles + 1)):\n",
    "        word = ' '.join(l[ind:ind+shingles])\n",
    "        if word not in shingles_dict:\n",
    "            shingles_dict[word] = len(shingles_dict)\n",
    "        s.add(shingles_dict[word])\n",
    "    return s\n",
    "        \n",
    "df[\"shingles\"] = df[\"article\"].apply(apply_shingles)\n",
    "print(df.head())"
   ]
  },
  {
   "cell_type": "code",
   "execution_count": 311,
   "metadata": {},
   "outputs": [],
   "source": [
    "def similarity(a, b):\n",
    "    return (len(a & b) / len(a | b))"
   ]
  },
  {
   "cell_type": "code",
   "execution_count": 312,
   "metadata": {},
   "outputs": [
    {
     "name": "stdout",
     "output_type": "stream",
     "text": [
      "CPU times: user 28.4 s, sys: 132 ms, total: 28.5 s\n",
      "Wall time: 28.5 s\n"
     ]
    }
   ],
   "source": [
    "%%time\n",
    "similarities = list()\n",
    "for ind_i, i in enumerate(df[\"shingles\"]):\n",
    "    for ind_j, j in enumerate(df[\"shingles\"]):\n",
    "        if ind_i != ind_j:\n",
    "            similarities.append(similarity(i, j))\n",
    "\n",
    "hist = np.histogram(similarities, bins=10, range=(0, 1))"
   ]
  },
  {
   "cell_type": "code",
   "execution_count": 313,
   "metadata": {},
   "outputs": [
    {
     "data": {
      "image/png": "[encoded data removed]",
      "text/plain": [
       "<Figure size 432x288 with 1 Axes>"
      ]
     },
     "metadata": {
      "needs_background": "light"
     },
     "output_type": "display_data"
    }
   ],
   "source": [
    "fig, ax = plt.subplots()\n",
    "ax.bar(hist[1][:-1], hist[0], width=0.09)\n",
    "ax.set_yscale(\"log\")\n",
    "plt.show()"
   ]
  },
  {
   "cell_type": "markdown",
   "metadata": {},
   "source": [
    "# Create minhash"
   ]
  },
  {
   "cell_type": "code",
   "execution_count": 314,
   "metadata": {},
   "outputs": [],
   "source": [
    "num_perm = PERMUTATIONS\n",
    "all_shingles = np.array(list(shingles_dict.values()))\n",
    "\n",
    "permutations = np.zeros(shape=(num_perm, len(all_shingles)), dtype=int)\n",
    "sign_matrix = np.zeros(shape=(num_perm, len(df.shingles)), dtype=int)"
   ]
  },
  {
   "cell_type": "code",
   "execution_count": 315,
   "metadata": {},
   "outputs": [
    {
     "name": "stdout",
     "output_type": "stream",
     "text": [
      "CPU times: user 1min 26s, sys: 540 ms, total: 1min 27s\n",
      "Wall time: 1min 27s\n"
     ]
    }
   ],
   "source": [
    "%%time\n",
    "for i in range(num_perm):\n",
    "    cont = True\n",
    "    while cont:\n",
    "        cont = False\n",
    "        perm = np.random.permutation(all_shingles)\n",
    "        for j in range(i):\n",
    "            if (permutations[j] == perm).all():\n",
    "                cont = True\n",
    "    permutations[i] = perm"
   ]
  },
  {
   "cell_type": "code",
   "execution_count": 316,
   "metadata": {},
   "outputs": [
    {
     "name": "stdout",
     "output_type": "stream",
     "text": [
      "CPU times: user 3min 25s, sys: 23 ms, total: 3min 25s\n",
      "Wall time: 3min 25s\n"
     ]
    }
   ],
   "source": [
    "%%time\n",
    "for doc_index, document in enumerate(df.shingles):\n",
    "    for perm_index, perm in enumerate(permutations):\n",
    "        for shingle_index, shingle in enumerate(perm):\n",
    "            if shingle in document:\n",
    "                sign_matrix[perm_index, doc_index] = shingle_index\n",
    "                break"
   ]
  },
  {
   "cell_type": "markdown",
   "metadata": {},
   "source": [
    "# Locality-Sensitive Hashing"
   ]
  },
  {
   "cell_type": "code",
   "execution_count": 317,
   "metadata": {},
   "outputs": [
    {
     "name": "stdout",
     "output_type": "stream",
     "text": [
      "13.333333333333334\n"
     ]
    }
   ],
   "source": [
    "bands = B"
   ]
  },
  {
   "cell_type": "code",
   "execution_count": 325,
   "metadata": {},
   "outputs": [],
   "source": [
    "table = np.split(sign_matrix.T, bands)\n",
    "htable = [dict()] * bands\n",
    "\n",
    "candidate_pairs = set()"
   ]
  },
  {
   "cell_type": "code",
   "execution_count": 326,
   "metadata": {},
   "outputs": [
    {
     "name": "stdout",
     "output_type": "stream",
     "text": [
      "CPU times: user 22.5 ms, sys: 12 µs, total: 22.6 ms\n",
      "Wall time: 22.2 ms\n"
     ]
    }
   ],
   "source": [
    "%%time\n",
    "for band_index, band in enumerate(table):\n",
    "    for row_index, row in enumerate(band):\n",
    "        if row.tostring() in htable[band_index]:\n",
    "            for candidate in htable[band_index][row.tostring()]:\n",
    "                candidate_pairs.add((row_index, candidate))\n",
    "            htable[band_index][row.tostring()].add(row_index)\n",
    "        else:\n",
    "            htable[band_index][row.tostring()] = {row_index}"
   ]
  },
  {
   "cell_type": "code",
   "execution_count": 327,
   "metadata": {},
   "outputs": [
    {
     "name": "stdout",
     "output_type": "stream",
     "text": [
      "set()\n"
     ]
    }
   ],
   "source": [
    "print(candidate_pairs)"
   ]
  },
  {
   "cell_type": "code",
   "execution_count": 321,
   "metadata": {},
   "outputs": [],
   "source": [
    "for pair in candidate_pairs:\n",
    "    print(similarity(df.shingles[pair[0]], df.shingles[pair[1]]))"
   ]
  },
  {
   "cell_type": "code",
   "execution_count": null,
   "metadata": {},
   "outputs": [],
   "source": []
  },
  {
   "cell_type": "code",
   "execution_count": null,
   "metadata": {},
   "outputs": [],
   "source": []
  },
  {
   "cell_type": "code",
   "execution_count": null,
   "metadata": {},
   "outputs": [],
   "source": []
  },
  {
   "cell_type": "code",
   "execution_count": null,
   "metadata": {},
   "outputs": [],
   "source": []
  }
 ],
 "metadata": {
  "kernelspec": {
   "display_name": "Python 3",
   "language": "python",
   "name": "python3"
  },
  "language_info": {
   "codemirror_mode": {
    "name": "ipython",
    "version": 3
   },
   "file_extension": ".py",
   "mimetype": "text/x-python",
   "name": "python",
   "nbconvert_exporter": "python",
   "pygments_lexer": "ipython3",
   "version": "3.7.5"
  }
 },
 "nbformat": 4,
 "nbformat_minor": 2
}
